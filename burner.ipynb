{
 "cells": [
  {
   "cell_type": "code",
   "execution_count": null,
   "metadata": {},
   "outputs": [],
   "source": [
    "\"\"\" \n",
    "Turn slides into videos\n",
    "> take an input folder. \n",
    "> recursively turn them into videos. so you get a folder, inside are variation folders and inside each variation folder \n",
    "    are post folders, inside each post folder are the actual images\n",
    "> take the images and sort them so its 1, 2, 3 etc \n",
    "> the video name should be based on the variation + post, eg variation1_post1.mp4\n",
    "> one of the inputs needs to be length per slide show that we show and it should be a float or int (eg 1 or 1.5 seconds)\n",
    "\n",
    "Turn captions into speech \n",
    "> \n",
    "\"\"\""
   ]
  },
  {
   "cell_type": "code",
   "execution_count": null,
   "metadata": {},
   "outputs": [],
   "source": []
  },
  {
   "cell_type": "code",
   "execution_count": null,
   "metadata": {},
   "outputs": [],
   "source": []
  }
 ],
 "metadata": {
  "kernelspec": {
   "display_name": ".venv",
   "language": "python",
   "name": "python3"
  },
  "language_info": {
   "codemirror_mode": {
    "name": "ipython",
    "version": 3
   },
   "file_extension": ".py",
   "mimetype": "text/x-python",
   "name": "python",
   "nbconvert_exporter": "python",
   "pygments_lexer": "ipython3",
   "version": "3.9.13"
  }
 },
 "nbformat": 4,
 "nbformat_minor": 2
}
